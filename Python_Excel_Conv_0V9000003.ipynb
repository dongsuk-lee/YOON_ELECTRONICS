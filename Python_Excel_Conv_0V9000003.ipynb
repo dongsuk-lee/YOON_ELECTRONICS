{
 "cells": [
  {
   "cell_type": "markdown",
   "metadata": {},
   "source": [
    "### pandas read"
   ]
  },
  {
   "cell_type": "code",
   "execution_count": 1,
   "metadata": {},
   "outputs": [],
   "source": [
    "import pandas as pd\n",
    "import numpy as np\n",
    "import openpyxl as xl\n",
    "import os\n",
    "#import os.path\n",
    "#from tkinter import filedialog\n",
    "#from tkinter import *\n",
    "#from pathlib import Path"
   ]
  },
  {
   "cell_type": "markdown",
   "metadata": {},
   "source": [
    "### 파일 읽기\n",
    "* os.path.basename(filename) - 파일명만 추출\n",
    "* os.path.dirname(filename) - 디렉토리 경로 추출\n",
    "* os.path.split(filename) - 경로와 파일명을 분리\n",
    "* os.path.splitdrive(filename) - 드라이브명과 나머지 분리 (MS Windows의 경우)\n",
    "* os.path.splitext(filename) - 확장자와 나머지 분리"
   ]
  },
  {
   "cell_type": "markdown",
   "metadata": {},
   "source": [
    "def file_open():\n",
    "    root = Tk()  # 루트 윈도우 생성\n",
    "    root.title(\"File Select...\")\n",
    "    root.geometry(\"200x100\")\n",
    "    root.resizable(0,0)\n",
    "\n",
    "    files = filedialog.askopenfilenames(initialdir=\"./\",\\\n",
    "        title = \"파일을 선택 해 주세요\",\\\n",
    "        filetypes = ((\"*.xlsx\",\"*xlsx\"),(\"*.xls\",\"*xls\"),(\"*.csv\",\"*csv\")))\n",
    "    #files 변수에 선택 파일 경로 넣기\n",
    "\n",
    "    if files == '':\n",
    "        filedialog.showwarning(\"경고\", \"파일을 추가 하세요\")    #파일 선택 안했을 때 메세지 출력\n",
    "    root.withdraw()  # 루트 윈도우 숨기기 \n",
    "    str_file = ''.join(files)\n",
    "    return str_file\n"
   ]
  },
  {
   "cell_type": "markdown",
   "metadata": {},
   "source": [
    "### 메세지"
   ]
  },
  {
   "cell_type": "code",
   "execution_count": 2,
   "metadata": {},
   "outputs": [
    {
     "name": "stdout",
     "output_type": "stream",
     "text": [
      "다음과 같이 파일을 확인한 후 아무키나 눌러 주세요.\n",
      "\n",
      "거래처별매입매출장.xlsx\n",
      "\n",
      "거래처등록.xlsx\n",
      "\n"
     ]
    }
   ],
   "source": [
    "print(\"다음과 같이 파일을 확인한 후 아무키나 눌러 주세요.\\n\")\n",
    "print(\"거래처별매입매출장.xlsx\\n\")\n",
    "print(\"거래처등록.xlsx\\n\")\n",
    "os.system(\"pause\")"
   ]
  },
  {
   "cell_type": "code",
   "execution_count": null,
   "metadata": {},
   "outputs": [],
   "source": []
  },
  {
   "cell_type": "markdown",
   "metadata": {},
   "source": [
    "### 거래처 매입매출 자료\n",
    "* read\n",
    "* 거레처코드로 sort"
   ]
  },
  {
   "cell_type": "code",
   "execution_count": 3,
   "metadata": {},
   "outputs": [],
   "source": [
    "df_tax = pd.read_excel('거래처별매입매출장.xlsx', usecols=['일자', '전표번호', '코드', '거래처', '유형', '품목', '수량', '단가', '공급가액', '부가세', '합계'])\n",
    "#df_tax = pd.read_excel(file_open(), usecols=['일자', '전표번호', '코드', '거래처', '유형', '품목', '수량', '단가', '공급가액', '부가세', '합계'])\n",
    "#df_tax_total = df_tax['일자'].count()\n",
    "# sort\n",
    "#df_tax_sort = df_tax.sort_values(by = '전표번호')\n",
    "#df_tax_sort"
   ]
  },
  {
   "cell_type": "code",
   "execution_count": 4,
   "metadata": {},
   "outputs": [],
   "source": [
    "df_tax['유형'].replace('면건', np.NaN, inplace = True)\n",
    "df_tax.dropna(subset=['유형'], inplace=True)\n",
    "df_tax_total = df_tax['일자'].count()"
   ]
  },
  {
   "cell_type": "markdown",
   "metadata": {},
   "source": [
    "### 업체 정보 read"
   ]
  },
  {
   "cell_type": "code",
   "execution_count": 5,
   "metadata": {},
   "outputs": [],
   "source": [
    "df_account = pd.read_excel('거래처등록.xlsx', header = 14, usecols=['거래처코드', '거래처명', '사업자등록번호', '대표자성명', '업태', '종목', '주소', 'EMail'])\n",
    "df_account_count = df_account['거래처명'].count()\n",
    "df_account.rename(columns={'거래처코드':'코드'}, inplace=True)"
   ]
  },
  {
   "cell_type": "markdown",
   "metadata": {},
   "source": [
    "### Data Merge\n",
    "* tax + account"
   ]
  },
  {
   "cell_type": "markdown",
   "metadata": {},
   "source": []
  },
  {
   "cell_type": "code",
   "execution_count": 6,
   "metadata": {},
   "outputs": [],
   "source": [
    "df_m = pd.merge(df_account, df_tax, on=\"코드\", how=\"right\")  # 이름이 같아야지만 merge가 가능\n",
    "\n",
    "#df_m['거래처명'] = df_m['거래처명'].str.replace(pat=r'[^\\w]', repl=r'', regex=True)\n",
    "df_m['일자'] = df_m['일자'].str.replace(pat=r'[^\\w]', repl=r'', regex=True)\n",
    "df_m['거래처명'] = df_m['거래처명'].str.split('/').str.get(0)\n"
   ]
  },
  {
   "cell_type": "markdown",
   "metadata": {},
   "source": [
    "### 전표 신규 데이터 read"
   ]
  },
  {
   "cell_type": "code",
   "execution_count": 7,
   "metadata": {},
   "outputs": [],
   "source": [
    "df_input = pd.read_excel(\"양식.xlsx\", header = 5)\n",
    "#df_input.loc[0] = ''\n",
    "#df_input['전자(세금)계산서 종류'].iloc[0] = '01'"
   ]
  },
  {
   "cell_type": "markdown",
   "metadata": {},
   "source": [
    "### 전표 입력"
   ]
  },
  {
   "cell_type": "code",
   "execution_count": 8,
   "metadata": {},
   "outputs": [],
   "source": [
    "def TAX_NewDataInput(line, sumline):\n",
    "    df_input.loc[line + 1] = ''\n",
    "    \n",
    "    df_input['전자(세금)계산서 종류'].iloc[sumline] = '01'\n",
    "\n",
    "    df_input['공급자 등록번호'].iloc[sumline] = '4098654575'\n",
    "    df_input['공급자 상호'].iloc[sumline] = '주식회사윤전자'\n",
    "    df_input['공급자 성명'].iloc[sumline] = '이창규'\n",
    "    df_input['공급자 사업장주소'].iloc[sumline] = '경기도 군포시 공단로140번길 52 1413호'\n",
    "    df_input['공급자 업태'].iloc[sumline] = '제조업'\n",
    "    df_input['공급자 종목'].iloc[sumline] = '발전기 및 전동기 수리업'\n",
    "    df_input['공급자 이메일'].iloc[sumline] = 'yoon.leecg@gmail.com'\n",
    "    df_input['영수(01),청구(02)'].iloc[sumline] = '02'\n",
    "\n",
    "    df_input['작성일자'].iloc[sumline] = df_m['일자'].loc[line]\n",
    "    df_input['공급받는자 등록번호'].iloc[sumline] = df_m['사업자등록번호'].loc[line]\n",
    "    df_input['공급받는자 상호'].iloc[sumline] = df_m['거래처명'].loc[line]\n",
    "    df_input['공급받는자 성명'].iloc[sumline] = df_m['대표자성명'].loc[line]\n",
    "    df_input['공급받는자 사업장주소'].iloc[sumline] = df_m['업태'].loc[line]\n",
    "    df_input['공급받는자 업태'].iloc[sumline] = df_m['종목'].loc[line]\n",
    "    df_input['공급받는자 종목'].iloc[sumline] = df_m['주소'].loc[line]\n",
    "    df_input['공급받는자 이메일1'].iloc[sumline] = df_m['EMail'].loc[line]\n"
   ]
  },
  {
   "cell_type": "code",
   "execution_count": 9,
   "metadata": {},
   "outputs": [],
   "source": [
    "# 일자1\t품목1\t규격1\t수량1\t단가1\t공급가액1\t세액1\n",
    "total_sum_price = 0\n",
    "total_sum_tax = 0\n",
    "\n",
    "def TAX_ReleaseDataInput(line, add, sumline):\n",
    "    if(add == 0):\n",
    "        df_input['일자1'].iloc[sumline]         = df_m['일자'].str.slice(8, 10).loc[line]\n",
    "        df_input['품목1'].iloc[sumline]         = df_m['품목'].loc[line]\n",
    "        df_input['수량1'].iloc[sumline]         = df_m['수량'].loc[line]\n",
    "        df_input['단가1'].iloc[sumline]         = df_m['단가'].loc[line]\n",
    "        df_input['공급가액1'].iloc[sumline]     = df_m['공급가액'].loc[line]\n",
    "        df_input['세액1'].iloc[sumline]         = df_m['부가세'].loc[line]\n",
    "        df_input['공급가액'].iloc[sumline]      = df_m['공급가액'].loc[line]\n",
    "        df_input['세액'].iloc[sumline]      = df_m['부가세'].loc[line]\n",
    "\n",
    "    elif(add == 1):\n",
    "        df_input['일자2'].iloc[sumline]        = df_m['일자'].str.slice(8, 10).loc[line]\n",
    "        df_input['품목2'].iloc[sumline]        = df_m['품목'].loc[line]\n",
    "        df_input['수량2'].iloc[sumline]        = df_m['수량'].loc[line]\n",
    "        df_input['단가2'].iloc[sumline]        = df_m['단가'].loc[line]\n",
    "        df_input['공급가액2'].iloc[sumline]    = df_m['공급가액'].loc[line]\n",
    "        df_input['세액2'].iloc[sumline]        = df_m['부가세'].loc[line]\n",
    "        df_input['공급가액'].iloc[sumline]      = df_input['공급가액'].iloc[sumline] + df_m['공급가액'].loc[line]\n",
    "        df_input['세액'].iloc[sumline]      = df_input['세액'].iloc[sumline] + df_m['부가세'].loc[line]\n",
    "\n",
    "    elif(add == 2):\n",
    "        df_input['일자3'].iloc[sumline]        = df_m['일자'].str.slice(8, 10).loc[line]\n",
    "        df_input['품목3'].iloc[sumline]        = df_m['품목'].loc[line]\n",
    "        df_input['수량3'].iloc[sumline]        = df_m['수량'].loc[line]\n",
    "        df_input['단가3'].iloc[sumline]        = df_m['단가'].loc[line]\n",
    "        df_input['공급가액3'].iloc[sumline]    = df_m['공급가액'].loc[line]\n",
    "        df_input['세액3'].iloc[sumline]        = df_m['부가세'].loc[line]\n",
    "        df_input['공급가액'].iloc[sumline]      = df_input['공급가액'].iloc[sumline] + df_m['공급가액'].loc[line]\n",
    "        df_input['세액'].iloc[sumline]      = df_input['세액'].iloc[sumline] + df_m['부가세'].loc[line]\n",
    "\n",
    "    elif(add == 3):\n",
    "        df_input['일자4'].iloc[sumline]        = df_m['일자'].str.slice(8, 10).loc[line]\n",
    "        df_input['품목4'].iloc[sumline]        = df_m['품목'].loc[line]\n",
    "        df_input['수량4'].iloc[sumline]        = df_m['수량'].loc[line]\n",
    "        df_input['단가4'].iloc[sumline]        = df_m['단가'].loc[line]\n",
    "        df_input['공급가액4'].iloc[sumline]    = df_m['공급가액'].loc[line]\n",
    "        df_input['세액4'].iloc[sumline]        = df_m['부가세'].loc[line]\n",
    "        df_input['공급가액'].iloc[sumline]      = df_input['공급가액'].iloc[sumline] + df_m['공급가액'].loc[line]\n",
    "        df_input['세액'].iloc[sumline]      = df_input['세액'].iloc[sumline] + df_m['부가세'].loc[line]"
   ]
  },
  {
   "cell_type": "markdown",
   "metadata": {},
   "source": [
    "### 데이터 분석 \n",
    "* drop 기능으로 셀을 제거해서 사용하는 방법\n",
    "* 셀을 하나씩 증가시키며 데이터를 입력하는 방법"
   ]
  },
  {
   "cell_type": "code",
   "execution_count": 10,
   "metadata": {},
   "outputs": [],
   "source": [
    "#df_m1 = df_m.drop(0)\n",
    "#df_m2 = df_m1.drop(1)\n",
    "tax_name_old = df_m['전표번호'].iloc[0]\n",
    "taxNewDataLineCount = 0\n",
    "taxReleaseDataLineCount = 0\n",
    "\n",
    "for i in range(df_tax_total):\n",
    "    if(i == 0):\n",
    "        TAX_NewDataInput(i, taxNewDataLineCount)\n",
    "        TAX_ReleaseDataInput(i, taxReleaseDataLineCount, taxNewDataLineCount)\n",
    "        taxNewDataLineCount = taxNewDataLineCount + 1\n",
    "    else:\n",
    "        if(tax_name_old != df_m['전표번호'].iloc[i]):       # 전표번호 변경 시 \n",
    "            tax_name_old = df_m['전표번호'].iloc[i]         # 새로운 전표 등록\n",
    "            \n",
    "            taxReleaseDataLineCount = 0\n",
    "            # 전표 신규 데이터 작성\n",
    "            TAX_NewDataInput(i, taxNewDataLineCount)\n",
    "            TAX_ReleaseDataInput(i, taxReleaseDataLineCount, taxNewDataLineCount)\n",
    "            taxNewDataLineCount = taxNewDataLineCount + 1\n",
    "        else:\n",
    "            # 기존 전표번호에 데이터 추가\n",
    "            taxReleaseDataLineCount = taxReleaseDataLineCount + 1\n",
    "            TAX_ReleaseDataInput(i, taxReleaseDataLineCount, (taxNewDataLineCount - 1))\n",
    "            #print(\"전표번호 같음\", 'i =', i, '몇번째 품목 =', taxReleaseDataLineCount, '몇번째 라인 =', taxNewDataLineCount)\n"
   ]
  },
  {
   "cell_type": "markdown",
   "metadata": {},
   "source": [
    "### 공급받는자 사업자 없으면 행 삭제"
   ]
  },
  {
   "cell_type": "code",
   "execution_count": 11,
   "metadata": {},
   "outputs": [],
   "source": [
    "#사업자 등록증 없는 업체는 삭제\n",
    "#df_input.dropna(subset=['공급받는자 등록번호\\n(\"-\" 없이 입력)'], inplace=True)\n",
    "df_input.dropna(subset=['세액1'], inplace=True)"
   ]
  },
  {
   "cell_type": "markdown",
   "metadata": {},
   "source": [
    "그리고 만일 리스트 조건 안에 포함되는 데이터를 추출하고 싶다면 isin()함수를 사용해주면 된다. 만일, country가 [한국, 일본, 대만, 영국, 호주] 리스트에 포함되는 것을 추출하고 싶다면 기존에 조건을 여러개 열거했던 것처럼 사용하지 않고 아래 코드와 같은 형태를 사용함으로써 데이터를 추출할 수 있다.\n",
    "\n",
    "country_list = ['한국', '일본', '대만', '영국', '호주']\n",
    "df[df['country'].isin(country_list)]\n",
    "\n",
    "반대로 country 열에 country_list에 포함되지 않는 데이터를 추출하고 싶다면 아래 코드 처럼 위의 코드에서 ~를 붙여 사용하면 된다.\n",
    "\n",
    "country_list = ['한국', '일본', '대만', '영국', '호주']\n",
    "df[~df['country'].isin(country_list)]"
   ]
  },
  {
   "cell_type": "markdown",
   "metadata": {},
   "source": [
    "### 계산서 별도 정리 업체 구분\n",
    "* 별도 업체는 사업자 등록번호로 조회 후 구분 할 것"
   ]
  },
  {
   "cell_type": "code",
   "execution_count": 12,
   "metadata": {},
   "outputs": [],
   "source": [
    "# unCompany_list = ['주식회사 쉰들러엘리베이터', '대한승강에이전트', '지에스이', '위드이엘', '신화엘리베이터㈜', '동양텍/울산']\n",
    "\n",
    "# df_unCompany = df_input[~df_input['공급받는자 상호'].isin(unCompany_list)]\n",
    "# df_Company = df_input[df_input['공급받는자 상호'].isin(unCompany_list)]\n",
    "\n",
    "# #df_rs = df_input[df_input['공급받는자 상호'].str.contains('쉰들러')]\n",
    "# #df_Company.to_excel('쉰들러 테스트.xlsx')\n",
    "\n",
    "# #1. 파일 생성\n",
    "# writer=pd.ExcelWriter('buffer.xlsx', engine='openpyxl')\n",
    " \n",
    "# #2. 생성 파일에 시트명 지정 후 dataframe에 저장한 결과값 넣기\n",
    "# df_Company.to_excel(writer, sheet_name='계산서 검토 업체')\n",
    "# df_unCompany.to_excel(writer, sheet_name='계산서 발행 업체')\n",
    " \n",
    "# #3. 작성 완료 후 파일 저장\n",
    "# writer.save()\n"
   ]
  },
  {
   "cell_type": "code",
   "execution_count": 13,
   "metadata": {},
   "outputs": [
    {
     "data": {
      "text/plain": [
       "'\\n# 20221015 - 기존 파일 저장 방식\\n# df_input.to_excel(\"buffer.xlsx\")\\n# wb = xl.load_workbook(\\'buffer.xlsx\\')\\n# ws = wb.active\\n# #ws.insert_rows(0, 5)\\n# ws.delete_cols(1)\\n# wb.save(\\'Tax List Complete File.xlsx\\')\\n# os.remove(\\'buffer.xlsx\\')\\n# print(\"변환이 완료되었습니다.\\n\")\\n# #os.system(\"pause\")\\n'"
      ]
     },
     "execution_count": 13,
     "metadata": {},
     "output_type": "execute_result"
    }
   ],
   "source": [
    "'''\n",
    "# 20221015 - 기존 파일 저장 방식\n",
    "# df_input.to_excel(\"buffer.xlsx\")\n",
    "# wb = xl.load_workbook('buffer.xlsx')\n",
    "# ws = wb.active\n",
    "# #ws.insert_rows(0, 5)\n",
    "# ws.delete_cols(1)\n",
    "# wb.save('Tax List Complete File.xlsx')\n",
    "# os.remove('buffer.xlsx')\n",
    "# print(\"변환이 완료되었습니다.\\n\")\n",
    "# #os.system(\"pause\")\n",
    "'''"
   ]
  },
  {
   "cell_type": "code",
   "execution_count": 14,
   "metadata": {},
   "outputs": [
    {
     "name": "stdout",
     "output_type": "stream",
     "text": [
      "변환이 완료되었습니다.\n",
      "\n"
     ]
    }
   ],
   "source": [
    "\n",
    "unCompany_list = ['주식회사 쉰들러엘리베이터', '대한승강에이전트', '지에스이', '위드이엘', '신화엘리베이터㈜', '동양텍/울산']\n",
    "\n",
    "df_unCompany = df_input[~df_input['공급받는자 상호'].isin(unCompany_list)]\n",
    "df_Company = df_input[df_input['공급받는자 상호'].isin(unCompany_list)]\n",
    "\n",
    "#1. 파일 생성\n",
    "writer=pd.ExcelWriter('Tax List Complete File.xlsx', engine='openpyxl')\n",
    "\n",
    "#2. 생성 파일에 시트명 지정 후 dataframe에 저장한 결과값 넣기\n",
    "df_Company.to_excel(writer, sheet_name='계산서 검토 업체', index = False)\n",
    "df_unCompany.to_excel(writer, sheet_name='계산서 발행 업체', index = False)\n",
    "#3. 작성 완료 후 파일 저장\n",
    "writer.save()\n",
    "\n",
    "print(\"변환이 완료되었습니다.\\n\")\n",
    "os.system(\"pause\")"
   ]
  },
  {
   "cell_type": "markdown",
   "metadata": {},
   "source": [
    "# Jupyter File -> Python File Convertion\n",
    "jupyter nbconvert --to script Python_Excel_Conv_0V9000003.ipynb\n",
    "\n",
    "# EXE 파일 생성\n",
    "pyinstaller -F .\\Python_Excel_Conv_0V9000001.py"
   ]
  },
  {
   "cell_type": "markdown",
   "metadata": {},
   "source": []
  }
 ],
 "metadata": {
  "kernelspec": {
   "display_name": "Python 3.9.12 ('base')",
   "language": "python",
   "name": "python3"
  },
  "language_info": {
   "codemirror_mode": {
    "name": "ipython",
    "version": 3
   },
   "file_extension": ".py",
   "mimetype": "text/x-python",
   "name": "python",
   "nbconvert_exporter": "python",
   "pygments_lexer": "ipython3",
   "version": "3.9.12"
  },
  "orig_nbformat": 4,
  "vscode": {
   "interpreter": {
    "hash": "ad2bdc8ecc057115af97d19610ffacc2b4e99fae6737bb82f5d7fb13d2f2c186"
   }
  }
 },
 "nbformat": 4,
 "nbformat_minor": 2
}
